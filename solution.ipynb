{
 "cells": [
  {
   "cell_type": "code",
   "execution_count": 4,
   "id": "8a090a9b",
   "metadata": {},
   "outputs": [],
   "source": [
    "def sort(width, height, lenght, mass):\n",
    "    volumen = width * height * lenght\n",
    "    #conditions\n",
    "    heavy = \"heavy\" if mass >= 20 else \"light\"\n",
    "    bulky = \"bulky\" if volumen >= 1000000 or width >= 150 or height >= 150 or lenght >= 150 else \"standard\"\n",
    "    #Logic\n",
    "    if heavy == \"heavy\" and bulky == \"bulky\":\n",
    "        return \"REJECTED\"\n",
    "    elif heavy == \"heavy\" or bulky == \"bulky\":\n",
    "        return \"SPECIAL\"\n",
    "    elif heavy == \"light\" and bulky == \"standard\":\n",
    "        return \"STANDARD\""
   ]
  },
  {
   "cell_type": "code",
   "execution_count": 3,
   "id": "17c0d453",
   "metadata": {},
   "outputs": [
    {
     "name": "stdout",
     "output_type": "stream",
     "text": [
      "All test cases pass\n"
     ]
    }
   ],
   "source": [
    "def test_sort():\n",
    "    assert sort(10, 10, 10, 5) == \"STANDARD\", \"Test case 1 failed\"\n",
    "    assert sort(200, 200, 200, 25) == \"REJECTED\", \"Test case 2 failed\"\n",
    "    assert sort(150, 150, 150, 15) == \"SPECIAL\", \"Test case 3 failed\"\n",
    "    assert sort(50, 50, 50, 30) == \"SPECIAL\", \"Test case 4 failed\"\n",
    "    assert sort(100, 100, 100, 10) == \"SPECIAL\", \"Test case 5 failed\"\n",
    "    print(\"All test cases pass\")\n",
    "test_sort()"
   ]
  }
 ],
 "metadata": {
  "kernelspec": {
   "display_name": "stats",
   "language": "python",
   "name": "python3"
  },
  "language_info": {
   "codemirror_mode": {
    "name": "ipython",
    "version": 3
   },
   "file_extension": ".py",
   "mimetype": "text/x-python",
   "name": "python",
   "nbconvert_exporter": "python",
   "pygments_lexer": "ipython3",
   "version": "3.11.11"
  }
 },
 "nbformat": 4,
 "nbformat_minor": 5
}
